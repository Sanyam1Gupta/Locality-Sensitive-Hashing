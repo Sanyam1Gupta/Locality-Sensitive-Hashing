{
 "cells": [
  {
   "cell_type": "markdown",
   "metadata": {},
   "source": [
    "# Locality Sensitive Hashing"
   ]
  },
  {
   "cell_type": "markdown",
   "metadata": {},
   "source": [
    "##Importing necessary packages:-"
   ]
  },
  {
   "cell_type": "code",
   "execution_count": 1,
   "metadata": {
    "collapsed": false
   },
   "outputs": [],
   "source": [
    "import numpy as np\n",
    "import graphlab\n",
    "from scipy.sparse import csr_matrix\n",
    "from sklearn.metrics.pairwise import pairwise_distances\n",
    "import time\n",
    "from copy import copy\n",
    "import matplotlib.pyplot as plt\n",
    "%matplotlib inline\n",
    "\n",
    "def norm(x):\n",
    "    sum_sq=x.dot(x.T)\n",
    "    norm=np.sqrt(sum_sq)\n",
    "    return(norm)"
   ]
  },
  {
   "cell_type": "markdown",
   "metadata": {
    "collapsed": false
   },
   "source": [
    "##Loading in the Wikipedia dataset:-"
   ]
  },
  {
   "cell_type": "code",
   "execution_count": 3,
   "metadata": {
    "collapsed": false
   },
   "outputs": [],
   "source": [
    "wiki = graphlab.SFrame('people_wiki.gl/')"
   ]
  },
  {
   "cell_type": "markdown",
   "metadata": {},
   "source": [
    "##Assigning a uniqueID to each document:-"
   ]
  },
  {
   "cell_type": "code",
   "execution_count": 4,
   "metadata": {
    "collapsed": false
   },
   "outputs": [
    {
     "data": {
      "text/html": [
       "<div style=\"max-height:1000px;max-width:1500px;overflow:auto;\"><table frame=\"box\" rules=\"cols\">\n",
       "    <tr>\n",
       "        <th style=\"padding-left: 1em; padding-right: 1em; text-align: center\">id</th>\n",
       "        <th style=\"padding-left: 1em; padding-right: 1em; text-align: center\">URI</th>\n",
       "        <th style=\"padding-left: 1em; padding-right: 1em; text-align: center\">name</th>\n",
       "        <th style=\"padding-left: 1em; padding-right: 1em; text-align: center\">text</th>\n",
       "    </tr>\n",
       "    <tr>\n",
       "        <td style=\"padding-left: 1em; padding-right: 1em; text-align: center; vertical-align: top\">0</td>\n",
       "        <td style=\"padding-left: 1em; padding-right: 1em; text-align: center; vertical-align: top\">&lt;http://dbpedia.org/resou<br>rce/Digby_Morrell&gt; ...</td>\n",
       "        <td style=\"padding-left: 1em; padding-right: 1em; text-align: center; vertical-align: top\">Digby Morrell</td>\n",
       "        <td style=\"padding-left: 1em; padding-right: 1em; text-align: center; vertical-align: top\">digby morrell born 10<br>october 1979 is a former ...</td>\n",
       "    </tr>\n",
       "    <tr>\n",
       "        <td style=\"padding-left: 1em; padding-right: 1em; text-align: center; vertical-align: top\">1</td>\n",
       "        <td style=\"padding-left: 1em; padding-right: 1em; text-align: center; vertical-align: top\">&lt;http://dbpedia.org/resou<br>rce/Alfred_J._Lewy&gt; ...</td>\n",
       "        <td style=\"padding-left: 1em; padding-right: 1em; text-align: center; vertical-align: top\">Alfred J. Lewy</td>\n",
       "        <td style=\"padding-left: 1em; padding-right: 1em; text-align: center; vertical-align: top\">alfred j lewy aka sandy<br>lewy graduated from ...</td>\n",
       "    </tr>\n",
       "    <tr>\n",
       "        <td style=\"padding-left: 1em; padding-right: 1em; text-align: center; vertical-align: top\">2</td>\n",
       "        <td style=\"padding-left: 1em; padding-right: 1em; text-align: center; vertical-align: top\">&lt;http://dbpedia.org/resou<br>rce/Harpdog_Brown&gt; ...</td>\n",
       "        <td style=\"padding-left: 1em; padding-right: 1em; text-align: center; vertical-align: top\">Harpdog Brown</td>\n",
       "        <td style=\"padding-left: 1em; padding-right: 1em; text-align: center; vertical-align: top\">harpdog brown is a singer<br>and harmonica player who ...</td>\n",
       "    </tr>\n",
       "    <tr>\n",
       "        <td style=\"padding-left: 1em; padding-right: 1em; text-align: center; vertical-align: top\">3</td>\n",
       "        <td style=\"padding-left: 1em; padding-right: 1em; text-align: center; vertical-align: top\">&lt;http://dbpedia.org/resou<br>rce/Franz_Rottensteiner&gt; ...</td>\n",
       "        <td style=\"padding-left: 1em; padding-right: 1em; text-align: center; vertical-align: top\">Franz Rottensteiner</td>\n",
       "        <td style=\"padding-left: 1em; padding-right: 1em; text-align: center; vertical-align: top\">franz rottensteiner born<br>in waidmannsfeld lower ...</td>\n",
       "    </tr>\n",
       "    <tr>\n",
       "        <td style=\"padding-left: 1em; padding-right: 1em; text-align: center; vertical-align: top\">4</td>\n",
       "        <td style=\"padding-left: 1em; padding-right: 1em; text-align: center; vertical-align: top\">&lt;http://dbpedia.org/resou<br>rce/G-Enka&gt; ...</td>\n",
       "        <td style=\"padding-left: 1em; padding-right: 1em; text-align: center; vertical-align: top\">G-Enka</td>\n",
       "        <td style=\"padding-left: 1em; padding-right: 1em; text-align: center; vertical-align: top\">henry krvits born 30<br>december 1974 in tallinn ...</td>\n",
       "    </tr>\n",
       "    <tr>\n",
       "        <td style=\"padding-left: 1em; padding-right: 1em; text-align: center; vertical-align: top\">5</td>\n",
       "        <td style=\"padding-left: 1em; padding-right: 1em; text-align: center; vertical-align: top\">&lt;http://dbpedia.org/resou<br>rce/Sam_Henderson&gt; ...</td>\n",
       "        <td style=\"padding-left: 1em; padding-right: 1em; text-align: center; vertical-align: top\">Sam Henderson</td>\n",
       "        <td style=\"padding-left: 1em; padding-right: 1em; text-align: center; vertical-align: top\">sam henderson born<br>october 18 1969 is an ...</td>\n",
       "    </tr>\n",
       "    <tr>\n",
       "        <td style=\"padding-left: 1em; padding-right: 1em; text-align: center; vertical-align: top\">6</td>\n",
       "        <td style=\"padding-left: 1em; padding-right: 1em; text-align: center; vertical-align: top\">&lt;http://dbpedia.org/resou<br>rce/Aaron_LaCrate&gt; ...</td>\n",
       "        <td style=\"padding-left: 1em; padding-right: 1em; text-align: center; vertical-align: top\">Aaron LaCrate</td>\n",
       "        <td style=\"padding-left: 1em; padding-right: 1em; text-align: center; vertical-align: top\">aaron lacrate is an<br>american music producer ...</td>\n",
       "    </tr>\n",
       "    <tr>\n",
       "        <td style=\"padding-left: 1em; padding-right: 1em; text-align: center; vertical-align: top\">7</td>\n",
       "        <td style=\"padding-left: 1em; padding-right: 1em; text-align: center; vertical-align: top\">&lt;http://dbpedia.org/resou<br>rce/Trevor_Ferguson&gt; ...</td>\n",
       "        <td style=\"padding-left: 1em; padding-right: 1em; text-align: center; vertical-align: top\">Trevor Ferguson</td>\n",
       "        <td style=\"padding-left: 1em; padding-right: 1em; text-align: center; vertical-align: top\">trevor ferguson aka john<br>farrow born 11 november ...</td>\n",
       "    </tr>\n",
       "    <tr>\n",
       "        <td style=\"padding-left: 1em; padding-right: 1em; text-align: center; vertical-align: top\">8</td>\n",
       "        <td style=\"padding-left: 1em; padding-right: 1em; text-align: center; vertical-align: top\">&lt;http://dbpedia.org/resou<br>rce/Grant_Nelson&gt; ...</td>\n",
       "        <td style=\"padding-left: 1em; padding-right: 1em; text-align: center; vertical-align: top\">Grant Nelson</td>\n",
       "        <td style=\"padding-left: 1em; padding-right: 1em; text-align: center; vertical-align: top\">grant nelson born 27<br>april 1971 in london  ...</td>\n",
       "    </tr>\n",
       "    <tr>\n",
       "        <td style=\"padding-left: 1em; padding-right: 1em; text-align: center; vertical-align: top\">9</td>\n",
       "        <td style=\"padding-left: 1em; padding-right: 1em; text-align: center; vertical-align: top\">&lt;http://dbpedia.org/resou<br>rce/Cathy_Caruth&gt; ...</td>\n",
       "        <td style=\"padding-left: 1em; padding-right: 1em; text-align: center; vertical-align: top\">Cathy Caruth</td>\n",
       "        <td style=\"padding-left: 1em; padding-right: 1em; text-align: center; vertical-align: top\">cathy caruth born 1955 is<br>frank h t rhodes ...</td>\n",
       "    </tr>\n",
       "</table>\n",
       "[59071 rows x 4 columns]<br/>Note: Only the head of the SFrame is printed.<br/>You can use print_rows(num_rows=m, num_columns=n) to print more rows and columns.\n",
       "</div>"
      ],
      "text/plain": [
       "Columns:\n",
       "\tid\tint\n",
       "\tURI\tstr\n",
       "\tname\tstr\n",
       "\ttext\tstr\n",
       "\n",
       "Rows: 59071\n",
       "\n",
       "Data:\n",
       "+----+-------------------------------+---------------------+\n",
       "| id |              URI              |         name        |\n",
       "+----+-------------------------------+---------------------+\n",
       "| 0  | <http://dbpedia.org/resour... |    Digby Morrell    |\n",
       "| 1  | <http://dbpedia.org/resour... |    Alfred J. Lewy   |\n",
       "| 2  | <http://dbpedia.org/resour... |    Harpdog Brown    |\n",
       "| 3  | <http://dbpedia.org/resour... | Franz Rottensteiner |\n",
       "| 4  | <http://dbpedia.org/resour... |        G-Enka       |\n",
       "| 5  | <http://dbpedia.org/resour... |    Sam Henderson    |\n",
       "| 6  | <http://dbpedia.org/resour... |    Aaron LaCrate    |\n",
       "| 7  | <http://dbpedia.org/resour... |   Trevor Ferguson   |\n",
       "| 8  | <http://dbpedia.org/resour... |     Grant Nelson    |\n",
       "| 9  | <http://dbpedia.org/resour... |     Cathy Caruth    |\n",
       "+----+-------------------------------+---------------------+\n",
       "+-------------------------------+\n",
       "|              text             |\n",
       "+-------------------------------+\n",
       "| digby morrell born 10 octo... |\n",
       "| alfred j lewy aka sandy le... |\n",
       "| harpdog brown is a singer ... |\n",
       "| franz rottensteiner born i... |\n",
       "| henry krvits born 30 decem... |\n",
       "| sam henderson born october... |\n",
       "| aaron lacrate is an americ... |\n",
       "| trevor ferguson aka john f... |\n",
       "| grant nelson born 27 april... |\n",
       "| cathy caruth born 1955 is ... |\n",
       "+-------------------------------+\n",
       "[59071 rows x 4 columns]\n",
       "Note: Only the head of the SFrame is printed.\n",
       "You can use print_rows(num_rows=m, num_columns=n) to print more rows and columns."
      ]
     },
     "execution_count": 4,
     "metadata": {},
     "output_type": "execute_result"
    }
   ],
   "source": [
    "wiki = wiki.add_row_number()\n",
    "wiki"
   ]
  },
  {
   "cell_type": "markdown",
   "metadata": {},
   "source": [
    "##Extracting TF-IDF matrix:-"
   ]
  },
  {
   "cell_type": "code",
   "execution_count": 5,
   "metadata": {
    "collapsed": false
   },
   "outputs": [
    {
     "data": {
      "text/html": [
       "<div style=\"max-height:1000px;max-width:1500px;overflow:auto;\"><table frame=\"box\" rules=\"cols\">\n",
       "    <tr>\n",
       "        <th style=\"padding-left: 1em; padding-right: 1em; text-align: center\">id</th>\n",
       "        <th style=\"padding-left: 1em; padding-right: 1em; text-align: center\">URI</th>\n",
       "        <th style=\"padding-left: 1em; padding-right: 1em; text-align: center\">name</th>\n",
       "        <th style=\"padding-left: 1em; padding-right: 1em; text-align: center\">text</th>\n",
       "        <th style=\"padding-left: 1em; padding-right: 1em; text-align: center\">tf_idf</th>\n",
       "    </tr>\n",
       "    <tr>\n",
       "        <td style=\"padding-left: 1em; padding-right: 1em; text-align: center; vertical-align: top\">0</td>\n",
       "        <td style=\"padding-left: 1em; padding-right: 1em; text-align: center; vertical-align: top\">&lt;http://dbpedia.org/resou<br>rce/Digby_Morrell&gt; ...</td>\n",
       "        <td style=\"padding-left: 1em; padding-right: 1em; text-align: center; vertical-align: top\">Digby Morrell</td>\n",
       "        <td style=\"padding-left: 1em; padding-right: 1em; text-align: center; vertical-align: top\">digby morrell born 10<br>october 1979 is a former ...</td>\n",
       "        <td style=\"padding-left: 1em; padding-right: 1em; text-align: center; vertical-align: top\">{'since':<br>1.455376717308041, ...</td>\n",
       "    </tr>\n",
       "    <tr>\n",
       "        <td style=\"padding-left: 1em; padding-right: 1em; text-align: center; vertical-align: top\">1</td>\n",
       "        <td style=\"padding-left: 1em; padding-right: 1em; text-align: center; vertical-align: top\">&lt;http://dbpedia.org/resou<br>rce/Alfred_J._Lewy&gt; ...</td>\n",
       "        <td style=\"padding-left: 1em; padding-right: 1em; text-align: center; vertical-align: top\">Alfred J. Lewy</td>\n",
       "        <td style=\"padding-left: 1em; padding-right: 1em; text-align: center; vertical-align: top\">alfred j lewy aka sandy<br>lewy graduated from ...</td>\n",
       "        <td style=\"padding-left: 1em; padding-right: 1em; text-align: center; vertical-align: top\">{'precise':<br>6.44320060695519, ...</td>\n",
       "    </tr>\n",
       "    <tr>\n",
       "        <td style=\"padding-left: 1em; padding-right: 1em; text-align: center; vertical-align: top\">2</td>\n",
       "        <td style=\"padding-left: 1em; padding-right: 1em; text-align: center; vertical-align: top\">&lt;http://dbpedia.org/resou<br>rce/Harpdog_Brown&gt; ...</td>\n",
       "        <td style=\"padding-left: 1em; padding-right: 1em; text-align: center; vertical-align: top\">Harpdog Brown</td>\n",
       "        <td style=\"padding-left: 1em; padding-right: 1em; text-align: center; vertical-align: top\">harpdog brown is a singer<br>and harmonica player who ...</td>\n",
       "        <td style=\"padding-left: 1em; padding-right: 1em; text-align: center; vertical-align: top\">{'just':<br>2.7007299687108643, ...</td>\n",
       "    </tr>\n",
       "    <tr>\n",
       "        <td style=\"padding-left: 1em; padding-right: 1em; text-align: center; vertical-align: top\">3</td>\n",
       "        <td style=\"padding-left: 1em; padding-right: 1em; text-align: center; vertical-align: top\">&lt;http://dbpedia.org/resou<br>rce/Franz_Rottensteiner&gt; ...</td>\n",
       "        <td style=\"padding-left: 1em; padding-right: 1em; text-align: center; vertical-align: top\">Franz Rottensteiner</td>\n",
       "        <td style=\"padding-left: 1em; padding-right: 1em; text-align: center; vertical-align: top\">franz rottensteiner born<br>in waidmannsfeld lower ...</td>\n",
       "        <td style=\"padding-left: 1em; padding-right: 1em; text-align: center; vertical-align: top\">{'all':<br>1.6431112434912472, ...</td>\n",
       "    </tr>\n",
       "    <tr>\n",
       "        <td style=\"padding-left: 1em; padding-right: 1em; text-align: center; vertical-align: top\">4</td>\n",
       "        <td style=\"padding-left: 1em; padding-right: 1em; text-align: center; vertical-align: top\">&lt;http://dbpedia.org/resou<br>rce/G-Enka&gt; ...</td>\n",
       "        <td style=\"padding-left: 1em; padding-right: 1em; text-align: center; vertical-align: top\">G-Enka</td>\n",
       "        <td style=\"padding-left: 1em; padding-right: 1em; text-align: center; vertical-align: top\">henry krvits born 30<br>december 1974 in tallinn ...</td>\n",
       "        <td style=\"padding-left: 1em; padding-right: 1em; text-align: center; vertical-align: top\">{'legendary':<br>4.280856294365192, ...</td>\n",
       "    </tr>\n",
       "    <tr>\n",
       "        <td style=\"padding-left: 1em; padding-right: 1em; text-align: center; vertical-align: top\">5</td>\n",
       "        <td style=\"padding-left: 1em; padding-right: 1em; text-align: center; vertical-align: top\">&lt;http://dbpedia.org/resou<br>rce/Sam_Henderson&gt; ...</td>\n",
       "        <td style=\"padding-left: 1em; padding-right: 1em; text-align: center; vertical-align: top\">Sam Henderson</td>\n",
       "        <td style=\"padding-left: 1em; padding-right: 1em; text-align: center; vertical-align: top\">sam henderson born<br>october 18 1969 is an ...</td>\n",
       "        <td style=\"padding-left: 1em; padding-right: 1em; text-align: center; vertical-align: top\">{'now': 1.96695239252401,<br>'currently': ...</td>\n",
       "    </tr>\n",
       "    <tr>\n",
       "        <td style=\"padding-left: 1em; padding-right: 1em; text-align: center; vertical-align: top\">6</td>\n",
       "        <td style=\"padding-left: 1em; padding-right: 1em; text-align: center; vertical-align: top\">&lt;http://dbpedia.org/resou<br>rce/Aaron_LaCrate&gt; ...</td>\n",
       "        <td style=\"padding-left: 1em; padding-right: 1em; text-align: center; vertical-align: top\">Aaron LaCrate</td>\n",
       "        <td style=\"padding-left: 1em; padding-right: 1em; text-align: center; vertical-align: top\">aaron lacrate is an<br>american music producer ...</td>\n",
       "        <td style=\"padding-left: 1em; padding-right: 1em; text-align: center; vertical-align: top\">{'exclusive':<br>10.455187230695827, ...</td>\n",
       "    </tr>\n",
       "    <tr>\n",
       "        <td style=\"padding-left: 1em; padding-right: 1em; text-align: center; vertical-align: top\">7</td>\n",
       "        <td style=\"padding-left: 1em; padding-right: 1em; text-align: center; vertical-align: top\">&lt;http://dbpedia.org/resou<br>rce/Trevor_Ferguson&gt; ...</td>\n",
       "        <td style=\"padding-left: 1em; padding-right: 1em; text-align: center; vertical-align: top\">Trevor Ferguson</td>\n",
       "        <td style=\"padding-left: 1em; padding-right: 1em; text-align: center; vertical-align: top\">trevor ferguson aka john<br>farrow born 11 november ...</td>\n",
       "        <td style=\"padding-left: 1em; padding-right: 1em; text-align: center; vertical-align: top\">{'taxi':<br>6.0520214560945025, ...</td>\n",
       "    </tr>\n",
       "    <tr>\n",
       "        <td style=\"padding-left: 1em; padding-right: 1em; text-align: center; vertical-align: top\">8</td>\n",
       "        <td style=\"padding-left: 1em; padding-right: 1em; text-align: center; vertical-align: top\">&lt;http://dbpedia.org/resou<br>rce/Grant_Nelson&gt; ...</td>\n",
       "        <td style=\"padding-left: 1em; padding-right: 1em; text-align: center; vertical-align: top\">Grant Nelson</td>\n",
       "        <td style=\"padding-left: 1em; padding-right: 1em; text-align: center; vertical-align: top\">grant nelson born 27<br>april 1971 in london  ...</td>\n",
       "        <td style=\"padding-left: 1em; padding-right: 1em; text-align: center; vertical-align: top\">{'houston':<br>3.935505942157149, ...</td>\n",
       "    </tr>\n",
       "    <tr>\n",
       "        <td style=\"padding-left: 1em; padding-right: 1em; text-align: center; vertical-align: top\">9</td>\n",
       "        <td style=\"padding-left: 1em; padding-right: 1em; text-align: center; vertical-align: top\">&lt;http://dbpedia.org/resou<br>rce/Cathy_Caruth&gt; ...</td>\n",
       "        <td style=\"padding-left: 1em; padding-right: 1em; text-align: center; vertical-align: top\">Cathy Caruth</td>\n",
       "        <td style=\"padding-left: 1em; padding-right: 1em; text-align: center; vertical-align: top\">cathy caruth born 1955 is<br>frank h t rhodes ...</td>\n",
       "        <td style=\"padding-left: 1em; padding-right: 1em; text-align: center; vertical-align: top\">{'phenomenon':<br>5.750053426395245, ...</td>\n",
       "    </tr>\n",
       "</table>\n",
       "[59071 rows x 5 columns]<br/>Note: Only the head of the SFrame is printed.<br/>You can use print_rows(num_rows=m, num_columns=n) to print more rows and columns.\n",
       "</div>"
      ],
      "text/plain": [
       "Columns:\n",
       "\tid\tint\n",
       "\tURI\tstr\n",
       "\tname\tstr\n",
       "\ttext\tstr\n",
       "\ttf_idf\tdict\n",
       "\n",
       "Rows: 59071\n",
       "\n",
       "Data:\n",
       "+----+-------------------------------+---------------------+\n",
       "| id |              URI              |         name        |\n",
       "+----+-------------------------------+---------------------+\n",
       "| 0  | <http://dbpedia.org/resour... |    Digby Morrell    |\n",
       "| 1  | <http://dbpedia.org/resour... |    Alfred J. Lewy   |\n",
       "| 2  | <http://dbpedia.org/resour... |    Harpdog Brown    |\n",
       "| 3  | <http://dbpedia.org/resour... | Franz Rottensteiner |\n",
       "| 4  | <http://dbpedia.org/resour... |        G-Enka       |\n",
       "| 5  | <http://dbpedia.org/resour... |    Sam Henderson    |\n",
       "| 6  | <http://dbpedia.org/resour... |    Aaron LaCrate    |\n",
       "| 7  | <http://dbpedia.org/resour... |   Trevor Ferguson   |\n",
       "| 8  | <http://dbpedia.org/resour... |     Grant Nelson    |\n",
       "| 9  | <http://dbpedia.org/resour... |     Cathy Caruth    |\n",
       "+----+-------------------------------+---------------------+\n",
       "+-------------------------------+-------------------------------+\n",
       "|              text             |             tf_idf            |\n",
       "+-------------------------------+-------------------------------+\n",
       "| digby morrell born 10 octo... | {'since': 1.45537671730804... |\n",
       "| alfred j lewy aka sandy le... | {'precise': 6.443200606955... |\n",
       "| harpdog brown is a singer ... | {'just': 2.700729968710864... |\n",
       "| franz rottensteiner born i... | {'all': 1.6431112434912472... |\n",
       "| henry krvits born 30 decem... | {'legendary': 4.2808562943... |\n",
       "| sam henderson born october... | {'now': 1.96695239252401, ... |\n",
       "| aaron lacrate is an americ... | {'exclusive': 10.455187230... |\n",
       "| trevor ferguson aka john f... | {'taxi': 6.052021456094502... |\n",
       "| grant nelson born 27 april... | {'houston': 3.935505942157... |\n",
       "| cathy caruth born 1955 is ... | {'phenomenon': 5.750053426... |\n",
       "+-------------------------------+-------------------------------+\n",
       "[59071 rows x 5 columns]\n",
       "Note: Only the head of the SFrame is printed.\n",
       "You can use print_rows(num_rows=m, num_columns=n) to print more rows and columns."
      ]
     },
     "execution_count": 5,
     "metadata": {},
     "output_type": "execute_result"
    }
   ],
   "source": [
    "wiki['tf_idf'] = graphlab.text_analytics.tf_idf(wiki['text'])\n",
    "wiki"
   ]
  },
  {
   "cell_type": "markdown",
   "metadata": {
    "collapsed": false
   },
   "source": [
    "##Converting the TF-IDF column (in dictionary format) into the SciPy sparse matrix format:-"
   ]
  },
  {
   "cell_type": "code",
   "execution_count": 6,
   "metadata": {
    "collapsed": true
   },
   "outputs": [],
   "source": [
    "def sframe_to_scipy(column):\n",
    "\n",
    "    # Creating triples of (row_id, feature_id, count).\n",
    "    x = graphlab.SFrame({'X1':column})\n",
    "    \n",
    "    # Adding a row number.\n",
    "    x = x.add_row_number()\n",
    "    # Stack will transform x to have a row for each unique (row, key) pair.\n",
    "    x = x.stack('X1', ['feature', 'value'])\n",
    "\n",
    "    # Mapping words into integers using a OneHotEncoder feature transformation.\n",
    "    f = graphlab.feature_engineering.OneHotEncoder(features=['feature'])\n",
    "\n",
    "    f.fit(x)\n",
    "\n",
    "    # The transform method will add a new column that is the transformed version\n",
    "    # of the 'word' column.\n",
    "    x = f.transform(x)\n",
    "\n",
    "    # The feature mapping.\n",
    "    mapping = f['feature_encoding']\n",
    "\n",
    "    # The actual word id.\n",
    "    x['feature_id'] = x['encoded_features'].dict_keys().apply(lambda x: x[0])\n",
    "\n",
    "    # Creating numpy arrays that contain the data for the sparse matrix.\n",
    "    i = np.array(x['id'])\n",
    "    j = np.array(x['feature_id'])\n",
    "    v = np.array(x['value'])\n",
    "    width = x['id'].max() + 1\n",
    "    height = x['feature_id'].max() + 1\n",
    "\n",
    "    # Creating a sparse matrix.\n",
    "    mat = csr_matrix((v, (i, j)), shape=(width, height))\n",
    "\n",
    "    return mat, mapping"
   ]
  },
  {
   "cell_type": "code",
   "execution_count": 7,
   "metadata": {
    "collapsed": false
   },
   "outputs": [
    {
     "name": "stdout",
     "output_type": "stream",
     "text": [
      "113.866999865\n"
     ]
    }
   ],
   "source": [
    "start=time.time()\n",
    "corpus, mapping = sframe_to_scipy(wiki['tf_idf'])\n",
    "end=time.time()\n",
    "print end-start"
   ]
  },
  {
   "cell_type": "markdown",
   "metadata": {},
   "source": [
    "##Training an LSH model:-"
   ]
  },
  {
   "cell_type": "markdown",
   "metadata": {},
   "source": [
    "##Building a popular variant of LSH known as random binary projection, which approximates cosine distance:-"
   ]
  },
  {
   "cell_type": "code",
   "execution_count": 9,
   "metadata": {
    "collapsed": true
   },
   "outputs": [],
   "source": [
    "def generate_random_vectors(num_vector, dim):\n",
    "    return np.random.randn(dim, num_vector)"
   ]
  },
  {
   "cell_type": "code",
   "execution_count": 11,
   "metadata": {
    "collapsed": false
   },
   "outputs": [],
   "source": [
    "def train_lsh(data, num_vector=16, seed=None):\n",
    "    \n",
    "    dim = data.shape[1]\n",
    "    if seed is not None:\n",
    "        np.random.seed(seed)\n",
    "    random_vectors = generate_random_vectors(num_vector, dim)\n",
    "  \n",
    "    powers_of_two = 1 << np.arange(num_vector-1, -1, -1)\n",
    "  \n",
    "    table = {}\n",
    "    \n",
    "    # Partitioning data points into bins\n",
    "    bin_index_bits = (data.dot(random_vectors) >= 0)\n",
    "  \n",
    "    # Encoding bin index bits into integers\n",
    "    bin_indices = bin_index_bits.dot(powers_of_two)\n",
    "    \n",
    "    # Updating `table` so that `table[i]` is the list of document ids with bin index equal to i.\n",
    "    for data_index, bin_index in enumerate(bin_indices):\n",
    "        if bin_index not in table:\n",
    "            # If no list yet exists for this bin, assign the bin an empty list.\n",
    "            table[bin_index] =[]\n",
    "        # Fetching the list of document ids associated with the bin and add the document id to the end.\n",
    "        table[bin_index].append(data_index) \n",
    "\n",
    "    model = {'data': data,\n",
    "             'bin_index_bits': bin_index_bits,\n",
    "             'bin_indices': bin_indices,\n",
    "             'table': table,\n",
    "             'random_vectors': random_vectors,\n",
    "             'num_vector': num_vector}\n",
    "    \n",
    "    return model"
   ]
  },
  {
   "cell_type": "markdown",
   "metadata": {},
   "source": [
    "##Inspecting bins:-"
   ]
  },
  {
   "cell_type": "code",
   "execution_count": 13,
   "metadata": {
    "collapsed": false,
    "scrolled": true
   },
   "outputs": [
    {
     "data": {
      "text/html": [
       "<div style=\"max-height:1000px;max-width:1500px;overflow:auto;\"><table frame=\"box\" rules=\"cols\">\n",
       "    <tr>\n",
       "        <th style=\"padding-left: 1em; padding-right: 1em; text-align: center\">id</th>\n",
       "        <th style=\"padding-left: 1em; padding-right: 1em; text-align: center\">URI</th>\n",
       "        <th style=\"padding-left: 1em; padding-right: 1em; text-align: center\">name</th>\n",
       "        <th style=\"padding-left: 1em; padding-right: 1em; text-align: center\">text</th>\n",
       "        <th style=\"padding-left: 1em; padding-right: 1em; text-align: center\">tf_idf</th>\n",
       "    </tr>\n",
       "    <tr>\n",
       "        <td style=\"padding-left: 1em; padding-right: 1em; text-align: center; vertical-align: top\">35817</td>\n",
       "        <td style=\"padding-left: 1em; padding-right: 1em; text-align: center; vertical-align: top\">&lt;http://dbpedia.org/resou<br>rce/Barack_Obama&gt; ...</td>\n",
       "        <td style=\"padding-left: 1em; padding-right: 1em; text-align: center; vertical-align: top\">Barack Obama</td>\n",
       "        <td style=\"padding-left: 1em; padding-right: 1em; text-align: center; vertical-align: top\">barack hussein obama ii<br>brk husen bm born august ...</td>\n",
       "        <td style=\"padding-left: 1em; padding-right: 1em; text-align: center; vertical-align: top\">{'operations':<br>3.811771079388818, ...</td>\n",
       "    </tr>\n",
       "</table>\n",
       "[? rows x 5 columns]<br/>Note: Only the head of the SFrame is printed. This SFrame is lazily evaluated.<br/>You can use sf.materialize() to force materialization.\n",
       "</div>"
      ],
      "text/plain": [
       "Columns:\n",
       "\tid\tint\n",
       "\tURI\tstr\n",
       "\tname\tstr\n",
       "\ttext\tstr\n",
       "\ttf_idf\tdict\n",
       "\n",
       "Rows: Unknown\n",
       "\n",
       "Data:\n",
       "+-------+-------------------------------+--------------+\n",
       "|   id  |              URI              |     name     |\n",
       "+-------+-------------------------------+--------------+\n",
       "| 35817 | <http://dbpedia.org/resour... | Barack Obama |\n",
       "+-------+-------------------------------+--------------+\n",
       "+-------------------------------+-------------------------------+\n",
       "|              text             |             tf_idf            |\n",
       "+-------------------------------+-------------------------------+\n",
       "| barack hussein obama ii br... | {'operations': 3.811771079... |\n",
       "+-------------------------------+-------------------------------+\n",
       "[? rows x 5 columns]\n",
       "Note: Only the head of the SFrame is printed. This SFrame is lazily evaluated.\n",
       "You can use sf.materialize() to force materialization."
      ]
     },
     "execution_count": 13,
     "metadata": {},
     "output_type": "execute_result"
    }
   ],
   "source": [
    "wiki[wiki['name'] == 'Barack Obama']"
   ]
  },
  {
   "cell_type": "markdown",
   "metadata": {},
   "source": [
    "##Document `id` of Barack Obama's article and location of bin which contains Barack Obama's article:-"
   ]
  },
  {
   "cell_type": "code",
   "execution_count": 14,
   "metadata": {
    "collapsed": false
   },
   "outputs": [
    {
     "name": "stdout",
     "output_type": "stream",
     "text": [
      "[50194]\n",
      "[[ True  True False False False  True False False False False False  True\n",
      "  False False  True False]]\n"
     ]
    }
   ],
   "source": [
    "doc = corpus[35817, :]  # first document\n",
    "index_bits = (doc.dot(model['random_vectors']) >= 0)\n",
    "powers_of_two = (1 << np.arange(15, -1, -1))\n",
    "print index_bits.dot(powers_of_two)\n",
    "print np.array(index_bits)"
   ]
  },
  {
   "cell_type": "markdown",
   "metadata": {},
   "source": [
    "##Documents in the same bin as Barack Obama:-"
   ]
  },
  {
   "cell_type": "code",
   "execution_count": 15,
   "metadata": {
    "collapsed": false
   },
   "outputs": [
    {
     "data": {
      "text/plain": [
       "[21426, 35817, 39426, 50261, 53937]"
      ]
     },
     "execution_count": 15,
     "metadata": {},
     "output_type": "execute_result"
    }
   ],
   "source": [
    "model['table'][model['bin_indices'][35817]]"
   ]
  },
  {
   "cell_type": "markdown",
   "metadata": {},
   "source": [
    "##Thus other documents that belong to the same bin are:-"
   ]
  },
  {
   "cell_type": "code",
   "execution_count": 16,
   "metadata": {
    "collapsed": false
   },
   "outputs": [
    {
     "data": {
      "text/html": [
       "<div style=\"max-height:1000px;max-width:1500px;overflow:auto;\"><table frame=\"box\" rules=\"cols\">\n",
       "    <tr>\n",
       "        <th style=\"padding-left: 1em; padding-right: 1em; text-align: center\">id</th>\n",
       "        <th style=\"padding-left: 1em; padding-right: 1em; text-align: center\">URI</th>\n",
       "        <th style=\"padding-left: 1em; padding-right: 1em; text-align: center\">name</th>\n",
       "        <th style=\"padding-left: 1em; padding-right: 1em; text-align: center\">text</th>\n",
       "        <th style=\"padding-left: 1em; padding-right: 1em; text-align: center\">tf_idf</th>\n",
       "    </tr>\n",
       "    <tr>\n",
       "        <td style=\"padding-left: 1em; padding-right: 1em; text-align: center; vertical-align: top\">21426</td>\n",
       "        <td style=\"padding-left: 1em; padding-right: 1em; text-align: center; vertical-align: top\">&lt;http://dbpedia.org/resou<br>rce/Mark_Boulware&gt; ...</td>\n",
       "        <td style=\"padding-left: 1em; padding-right: 1em; text-align: center; vertical-align: top\">Mark Boulware</td>\n",
       "        <td style=\"padding-left: 1em; padding-right: 1em; text-align: center; vertical-align: top\">mark boulware born 1948<br>is an american diplomat ...</td>\n",
       "        <td style=\"padding-left: 1em; padding-right: 1em; text-align: center; vertical-align: top\">{'ambassador':<br>15.90834582606623, ...</td>\n",
       "    </tr>\n",
       "    <tr>\n",
       "        <td style=\"padding-left: 1em; padding-right: 1em; text-align: center; vertical-align: top\">39426</td>\n",
       "        <td style=\"padding-left: 1em; padding-right: 1em; text-align: center; vertical-align: top\">&lt;http://dbpedia.org/resou<br>rce/John_Wells_(polit ...</td>\n",
       "        <td style=\"padding-left: 1em; padding-right: 1em; text-align: center; vertical-align: top\">John Wells (politician)</td>\n",
       "        <td style=\"padding-left: 1em; padding-right: 1em; text-align: center; vertical-align: top\">sir john julius wells<br>born 30 march 1925 is a ...</td>\n",
       "        <td style=\"padding-left: 1em; padding-right: 1em; text-align: center; vertical-align: top\">{'when':<br>1.3806055739282235, ...</td>\n",
       "    </tr>\n",
       "    <tr>\n",
       "        <td style=\"padding-left: 1em; padding-right: 1em; text-align: center; vertical-align: top\">50261</td>\n",
       "        <td style=\"padding-left: 1em; padding-right: 1em; text-align: center; vertical-align: top\">&lt;http://dbpedia.org/resou<br>rce/Francis_Longstaff&gt; ...</td>\n",
       "        <td style=\"padding-left: 1em; padding-right: 1em; text-align: center; vertical-align: top\">Francis Longstaff</td>\n",
       "        <td style=\"padding-left: 1em; padding-right: 1em; text-align: center; vertical-align: top\">francis a longstaff born<br>august 3 1956 is an ...</td>\n",
       "        <td style=\"padding-left: 1em; padding-right: 1em; text-align: center; vertical-align: top\">{'all':<br>1.6431112434912472, ...</td>\n",
       "    </tr>\n",
       "    <tr>\n",
       "        <td style=\"padding-left: 1em; padding-right: 1em; text-align: center; vertical-align: top\">53937</td>\n",
       "        <td style=\"padding-left: 1em; padding-right: 1em; text-align: center; vertical-align: top\">&lt;http://dbpedia.org/resou<br>rce/Madurai_T._Sriniv ...</td>\n",
       "        <td style=\"padding-left: 1em; padding-right: 1em; text-align: center; vertical-align: top\">Madurai T. Srinivasan</td>\n",
       "        <td style=\"padding-left: 1em; padding-right: 1em; text-align: center; vertical-align: top\">maduraitsrinivasan is a<br>wellknown figure in the ...</td>\n",
       "        <td style=\"padding-left: 1em; padding-right: 1em; text-align: center; vertical-align: top\">{'alarmelu':<br>21.972990778450388, ...</td>\n",
       "    </tr>\n",
       "</table>\n",
       "[4 rows x 5 columns]<br/>\n",
       "</div>"
      ],
      "text/plain": [
       "Columns:\n",
       "\tid\tint\n",
       "\tURI\tstr\n",
       "\tname\tstr\n",
       "\ttext\tstr\n",
       "\ttf_idf\tdict\n",
       "\n",
       "Rows: 4\n",
       "\n",
       "Data:\n",
       "+-------+-------------------------------+-------------------------+\n",
       "|   id  |              URI              |           name          |\n",
       "+-------+-------------------------------+-------------------------+\n",
       "| 21426 | <http://dbpedia.org/resour... |      Mark Boulware      |\n",
       "| 39426 | <http://dbpedia.org/resour... | John Wells (politician) |\n",
       "| 50261 | <http://dbpedia.org/resour... |    Francis Longstaff    |\n",
       "| 53937 | <http://dbpedia.org/resour... |  Madurai T. Srinivasan  |\n",
       "+-------+-------------------------------+-------------------------+\n",
       "+-------------------------------+-------------------------------+\n",
       "|              text             |             tf_idf            |\n",
       "+-------------------------------+-------------------------------+\n",
       "| mark boulware born 1948 is... | {'ambassador': 15.90834582... |\n",
       "| sir john julius wells born... | {'when': 1.380605573928223... |\n",
       "| francis a longstaff born a... | {'all': 1.6431112434912472... |\n",
       "| maduraitsrinivasan is a we... | {'alarmelu': 21.9729907784... |\n",
       "+-------------------------------+-------------------------------+\n",
       "[4 rows x 5 columns]"
      ]
     },
     "execution_count": 16,
     "metadata": {},
     "output_type": "execute_result"
    }
   ],
   "source": [
    "doc_ids = list(model['table'][model['bin_indices'][35817]])\n",
    "doc_ids.remove(35817) # displaying documents other than Obama\n",
    "\n",
    "docs = wiki.filter_by(values=doc_ids, column_name='id') # filtering by id column\n",
    "docs"
   ]
  },
  {
   "cell_type": "code",
   "execution_count": 18,
   "metadata": {
    "collapsed": false
   },
   "outputs": [],
   "source": [
    "def cosine_distance(x, y):\n",
    "    xy = x.dot(y.T)\n",
    "    dist = xy/(norm(x)*norm(y))\n",
    "    return 1-dist[0,0]"
   ]
  },
  {
   "cell_type": "markdown",
   "metadata": {},
   "source": [
    "##Querying the LSH model:-"
   ]
  },
  {
   "cell_type": "markdown",
   "metadata": {},
   "source": [
    "logic for searching nearby neighbors is:\n",
    "```\n",
    "1. Let L be the bit representation of the bin that contains the query documents.\n",
    "2. Consider all documents in bin L.\n",
    "3. Consider documents in the bins whose bit representation differs from L by 1 bit.\n",
    "4. Consider documents in the bins whose bit representation differs from L by 2 bits.\n",
    "...\n",
    "```"
   ]
  },
  {
   "cell_type": "markdown",
   "metadata": {},
   "source": [
    "To obtain candidate bins that differ from the query bin by some number of bits, we use `itertools.combinations`, which produces all possible subsets of a given list.\n",
    "Search radius r will determine the number of different bits between the two vectors."
   ]
  },
  {
   "cell_type": "code",
   "execution_count": 19,
   "metadata": {
    "collapsed": true
   },
   "outputs": [],
   "source": [
    "from itertools import combinations"
   ]
  },
  {
   "cell_type": "code",
   "execution_count": 20,
   "metadata": {
    "collapsed": true
   },
   "outputs": [],
   "source": [
    "def search_nearby_bins(query_bin_bits, table, search_radius=2, initial_candidates=set()):\n",
    "    \n",
    "    num_vector = len(query_bin_bits)\n",
    "    powers_of_two = 1 << np.arange(num_vector-1, -1, -1)\n",
    "    \n",
    "    # Allows the user to provide an initial set of candidates.\n",
    "    candidate_set = copy(initial_candidates)\n",
    "    \n",
    "    for different_bits in combinations(range(num_vector), search_radius):       \n",
    "        # Flipping the bits (n_1,n_2,...,n_r) of the query bin to produce a new bit vector.\n",
    "        alternate_bits = copy(query_bin_bits)\n",
    "        for i in different_bits:\n",
    "            alternate_bits[i] = not(alternate_bits[i])\n",
    "        \n",
    "        # Converting the new bit vector to an integer index\n",
    "        nearby_bin = alternate_bits.dot(powers_of_two)\n",
    "        \n",
    "        # Fetching the list of documents belonging to the bin indexed by the new bit vector.\n",
    "        # Then adding those documents to candidate_set\n",
    "        if nearby_bin in table:\n",
    "             candidate_set.update(table[nearby_bin])\n",
    "            \n",
    "    return candidate_set"
   ]
  },
  {
   "cell_type": "markdown",
   "metadata": {},
   "source": [
    "##Function to collect all candidates and compute their true distance to the query:-"
   ]
  },
  {
   "cell_type": "code",
   "execution_count": 23,
   "metadata": {
    "collapsed": false,
    "scrolled": true
   },
   "outputs": [],
   "source": [
    "def query(vec, model, k, max_search_radius):\n",
    "  \n",
    "    data = model['data']\n",
    "    table = model['table']\n",
    "    random_vectors = model['random_vectors']\n",
    "    num_vector = random_vectors.shape[1]\n",
    "    \n",
    "    \n",
    "    # Computing bin index for the query vector, in bit representation.\n",
    "    bin_index_bits = (vec.dot(random_vectors) >= 0).flatten()\n",
    "    \n",
    "    # Searching nearby bins and collect candidates\n",
    "    candidate_set = set()\n",
    "    for search_radius in xrange(max_search_radius+1):\n",
    "        candidate_set = search_nearby_bins(bin_index_bits, table, search_radius, initial_candidates=candidate_set)\n",
    "    \n",
    "    # Sorting candidates by their true distances from the query\n",
    "    nearest_neighbors = graphlab.SFrame({'id':candidate_set})\n",
    "    candidates = data[np.array(list(candidate_set)),:]\n",
    "    nearest_neighbors['distance'] = pairwise_distances(candidates, vec, metric='cosine').flatten()\n",
    "    \n",
    "    return nearest_neighbors.topk('distance', k, reverse=True), len(candidate_set)"
   ]
  },
  {
   "cell_type": "markdown",
   "metadata": {},
   "source": [
    "So for Obama article:-"
   ]
  },
  {
   "cell_type": "code",
   "execution_count": 24,
   "metadata": {
    "collapsed": false
   },
   "outputs": [
    {
     "data": {
      "text/plain": [
       "(Columns:\n",
       " \tid\tint\n",
       " \tdistance\tfloat\n",
       " \n",
       " Rows: 10\n",
       " \n",
       " Data:\n",
       " +-------+--------------------+\n",
       " |   id  |      distance      |\n",
       " +-------+--------------------+\n",
       " | 35817 | -6.66133814775e-16 |\n",
       " | 24478 |   0.703138676734   |\n",
       " | 56008 |   0.856848127628   |\n",
       " | 37199 |   0.874668698194   |\n",
       " | 40353 |   0.890034225981   |\n",
       " |  9267 |   0.898377208819   |\n",
       " | 55909 |   0.899340396322   |\n",
       " |  9165 |   0.900921029925   |\n",
       " | 57958 |   0.903003263483   |\n",
       " | 49872 |   0.909532800353   |\n",
       " +-------+--------------------+\n",
       " [10 rows x 2 columns], 727)"
      ]
     },
     "execution_count": 24,
     "metadata": {},
     "output_type": "execute_result"
    }
   ],
   "source": [
    "query(corpus[35817,:], model, k=10, max_search_radius=3)"
   ]
  },
  {
   "cell_type": "markdown",
   "metadata": {},
   "source": [
    "##Joining this table with the Wikipedia table:-"
   ]
  },
  {
   "cell_type": "code",
   "execution_count": 25,
   "metadata": {
    "collapsed": false
   },
   "outputs": [
    {
     "data": {
      "text/html": [
       "<div style=\"max-height:1000px;max-width:1500px;overflow:auto;\"><table frame=\"box\" rules=\"cols\">\n",
       "    <tr>\n",
       "        <th style=\"padding-left: 1em; padding-right: 1em; text-align: center\">id</th>\n",
       "        <th style=\"padding-left: 1em; padding-right: 1em; text-align: center\">distance</th>\n",
       "        <th style=\"padding-left: 1em; padding-right: 1em; text-align: center\">name</th>\n",
       "    </tr>\n",
       "    <tr>\n",
       "        <td style=\"padding-left: 1em; padding-right: 1em; text-align: center; vertical-align: top\">35817</td>\n",
       "        <td style=\"padding-left: 1em; padding-right: 1em; text-align: center; vertical-align: top\">-6.66133814775e-16</td>\n",
       "        <td style=\"padding-left: 1em; padding-right: 1em; text-align: center; vertical-align: top\">Barack Obama</td>\n",
       "    </tr>\n",
       "    <tr>\n",
       "        <td style=\"padding-left: 1em; padding-right: 1em; text-align: center; vertical-align: top\">24478</td>\n",
       "        <td style=\"padding-left: 1em; padding-right: 1em; text-align: center; vertical-align: top\">0.703138676734</td>\n",
       "        <td style=\"padding-left: 1em; padding-right: 1em; text-align: center; vertical-align: top\">Joe Biden</td>\n",
       "    </tr>\n",
       "    <tr>\n",
       "        <td style=\"padding-left: 1em; padding-right: 1em; text-align: center; vertical-align: top\">56008</td>\n",
       "        <td style=\"padding-left: 1em; padding-right: 1em; text-align: center; vertical-align: top\">0.856848127628</td>\n",
       "        <td style=\"padding-left: 1em; padding-right: 1em; text-align: center; vertical-align: top\">Nathan Cullen</td>\n",
       "    </tr>\n",
       "    <tr>\n",
       "        <td style=\"padding-left: 1em; padding-right: 1em; text-align: center; vertical-align: top\">37199</td>\n",
       "        <td style=\"padding-left: 1em; padding-right: 1em; text-align: center; vertical-align: top\">0.874668698194</td>\n",
       "        <td style=\"padding-left: 1em; padding-right: 1em; text-align: center; vertical-align: top\">Barry Sullivan (lawyer)</td>\n",
       "    </tr>\n",
       "    <tr>\n",
       "        <td style=\"padding-left: 1em; padding-right: 1em; text-align: center; vertical-align: top\">40353</td>\n",
       "        <td style=\"padding-left: 1em; padding-right: 1em; text-align: center; vertical-align: top\">0.890034225981</td>\n",
       "        <td style=\"padding-left: 1em; padding-right: 1em; text-align: center; vertical-align: top\">Neil MacBride</td>\n",
       "    </tr>\n",
       "    <tr>\n",
       "        <td style=\"padding-left: 1em; padding-right: 1em; text-align: center; vertical-align: top\">9267</td>\n",
       "        <td style=\"padding-left: 1em; padding-right: 1em; text-align: center; vertical-align: top\">0.898377208819</td>\n",
       "        <td style=\"padding-left: 1em; padding-right: 1em; text-align: center; vertical-align: top\">Vikramaditya Khanna</td>\n",
       "    </tr>\n",
       "    <tr>\n",
       "        <td style=\"padding-left: 1em; padding-right: 1em; text-align: center; vertical-align: top\">55909</td>\n",
       "        <td style=\"padding-left: 1em; padding-right: 1em; text-align: center; vertical-align: top\">0.899340396322</td>\n",
       "        <td style=\"padding-left: 1em; padding-right: 1em; text-align: center; vertical-align: top\">Herman Cain</td>\n",
       "    </tr>\n",
       "    <tr>\n",
       "        <td style=\"padding-left: 1em; padding-right: 1em; text-align: center; vertical-align: top\">9165</td>\n",
       "        <td style=\"padding-left: 1em; padding-right: 1em; text-align: center; vertical-align: top\">0.900921029925</td>\n",
       "        <td style=\"padding-left: 1em; padding-right: 1em; text-align: center; vertical-align: top\">Raymond F. Clevenger</td>\n",
       "    </tr>\n",
       "    <tr>\n",
       "        <td style=\"padding-left: 1em; padding-right: 1em; text-align: center; vertical-align: top\">57958</td>\n",
       "        <td style=\"padding-left: 1em; padding-right: 1em; text-align: center; vertical-align: top\">0.903003263483</td>\n",
       "        <td style=\"padding-left: 1em; padding-right: 1em; text-align: center; vertical-align: top\">Michael J. Malbin</td>\n",
       "    </tr>\n",
       "    <tr>\n",
       "        <td style=\"padding-left: 1em; padding-right: 1em; text-align: center; vertical-align: top\">49872</td>\n",
       "        <td style=\"padding-left: 1em; padding-right: 1em; text-align: center; vertical-align: top\">0.909532800353</td>\n",
       "        <td style=\"padding-left: 1em; padding-right: 1em; text-align: center; vertical-align: top\">Lowell Barron</td>\n",
       "    </tr>\n",
       "</table>\n",
       "[10 rows x 3 columns]<br/>\n",
       "</div>"
      ],
      "text/plain": [
       "Columns:\n",
       "\tid\tint\n",
       "\tdistance\tfloat\n",
       "\tname\tstr\n",
       "\n",
       "Rows: 10\n",
       "\n",
       "Data:\n",
       "+-------+--------------------+-------------------------+\n",
       "|   id  |      distance      |           name          |\n",
       "+-------+--------------------+-------------------------+\n",
       "| 35817 | -6.66133814775e-16 |       Barack Obama      |\n",
       "| 24478 |   0.703138676734   |        Joe Biden        |\n",
       "| 56008 |   0.856848127628   |      Nathan Cullen      |\n",
       "| 37199 |   0.874668698194   | Barry Sullivan (lawyer) |\n",
       "| 40353 |   0.890034225981   |      Neil MacBride      |\n",
       "|  9267 |   0.898377208819   |   Vikramaditya Khanna   |\n",
       "| 55909 |   0.899340396322   |       Herman Cain       |\n",
       "|  9165 |   0.900921029925   |   Raymond F. Clevenger  |\n",
       "| 57958 |   0.903003263483   |    Michael J. Malbin    |\n",
       "| 49872 |   0.909532800353   |      Lowell Barron      |\n",
       "+-------+--------------------+-------------------------+\n",
       "[10 rows x 3 columns]"
      ]
     },
     "execution_count": 25,
     "metadata": {},
     "output_type": "execute_result"
    }
   ],
   "source": [
    "query(corpus[35817,:], model, k=10, max_search_radius=3)[0].join(wiki[['id', 'name']], on='id').sort('distance')"
   ]
  },
  {
   "cell_type": "markdown",
   "metadata": {},
   "source": [
    "##Running LSH multiple times, each with different radii for nearby bin search:-"
   ]
  },
  {
   "cell_type": "code",
   "execution_count": 26,
   "metadata": {
    "collapsed": false
   },
   "outputs": [
    {
     "data": {
      "text/html": [
       "<div style=\"max-height:1000px;max-width:1500px;overflow:auto;\"><table frame=\"box\" rules=\"cols\">\n",
       "    <tr>\n",
       "        <th style=\"padding-left: 1em; padding-right: 1em; text-align: center\">id</th>\n",
       "        <th style=\"padding-left: 1em; padding-right: 1em; text-align: center\">URI</th>\n",
       "        <th style=\"padding-left: 1em; padding-right: 1em; text-align: center\">name</th>\n",
       "        <th style=\"padding-left: 1em; padding-right: 1em; text-align: center\">text</th>\n",
       "        <th style=\"padding-left: 1em; padding-right: 1em; text-align: center\">tf_idf</th>\n",
       "    </tr>\n",
       "    <tr>\n",
       "        <td style=\"padding-left: 1em; padding-right: 1em; text-align: center; vertical-align: top\">35817</td>\n",
       "        <td style=\"padding-left: 1em; padding-right: 1em; text-align: center; vertical-align: top\">&lt;http://dbpedia.org/resou<br>rce/Barack_Obama&gt; ...</td>\n",
       "        <td style=\"padding-left: 1em; padding-right: 1em; text-align: center; vertical-align: top\">Barack Obama</td>\n",
       "        <td style=\"padding-left: 1em; padding-right: 1em; text-align: center; vertical-align: top\">barack hussein obama ii<br>brk husen bm born august ...</td>\n",
       "        <td style=\"padding-left: 1em; padding-right: 1em; text-align: center; vertical-align: top\">{'operations':<br>3.811771079388818, ...</td>\n",
       "    </tr>\n",
       "</table>\n",
       "[? rows x 5 columns]<br/>Note: Only the head of the SFrame is printed. This SFrame is lazily evaluated.<br/>You can use sf.materialize() to force materialization.\n",
       "</div>"
      ],
      "text/plain": [
       "Columns:\n",
       "\tid\tint\n",
       "\tURI\tstr\n",
       "\tname\tstr\n",
       "\ttext\tstr\n",
       "\ttf_idf\tdict\n",
       "\n",
       "Rows: Unknown\n",
       "\n",
       "Data:\n",
       "+-------+-------------------------------+--------------+\n",
       "|   id  |              URI              |     name     |\n",
       "+-------+-------------------------------+--------------+\n",
       "| 35817 | <http://dbpedia.org/resour... | Barack Obama |\n",
       "+-------+-------------------------------+--------------+\n",
       "+-------------------------------+-------------------------------+\n",
       "|              text             |             tf_idf            |\n",
       "+-------------------------------+-------------------------------+\n",
       "| barack hussein obama ii br... | {'operations': 3.811771079... |\n",
       "+-------------------------------+-------------------------------+\n",
       "[? rows x 5 columns]\n",
       "Note: Only the head of the SFrame is printed. This SFrame is lazily evaluated.\n",
       "You can use sf.materialize() to force materialization."
      ]
     },
     "execution_count": 26,
     "metadata": {},
     "output_type": "execute_result"
    }
   ],
   "source": [
    "wiki[wiki['name']=='Barack Obama']"
   ]
  },
  {
   "cell_type": "code",
   "execution_count": 27,
   "metadata": {
    "collapsed": false,
    "scrolled": true
   },
   "outputs": [
    {
     "name": "stdout",
     "output_type": "stream",
     "text": [
      "Radius: 0\n",
      "+-------+--------------------+-------------------------+\n",
      "|   id  |      distance      |           name          |\n",
      "+-------+--------------------+-------------------------+\n",
      "| 35817 | -6.66133814775e-16 |       Barack Obama      |\n",
      "| 21426 |   0.950866757525   |      Mark Boulware      |\n",
      "| 39426 |   0.97596600411    | John Wells (politician) |\n",
      "| 50261 |   0.978256163041   |    Francis Longstaff    |\n",
      "| 53937 |   0.993092148424   |  Madurai T. Srinivasan  |\n",
      "+-------+--------------------+-------------------------+\n",
      "[5 rows x 3 columns]\n",
      "\n",
      "Radius: 1\n",
      "+-------+--------------------+-------------------------------+\n",
      "|   id  |      distance      |              name             |\n",
      "+-------+--------------------+-------------------------------+\n",
      "| 35817 | -6.66133814775e-16 |          Barack Obama         |\n",
      "| 41631 |   0.947459482005   |          Binayak Sen          |\n",
      "| 21426 |   0.950866757525   |         Mark Boulware         |\n",
      "| 33243 |   0.951765770113   |        Janice Lachance        |\n",
      "| 33996 |   0.960859054157   |          Rufus Black          |\n",
      "| 28444 |   0.961080585824   |        John Paul Phelan       |\n",
      "| 20347 |   0.974129605472   |        Gianni De Fraja        |\n",
      "| 39426 |   0.97596600411    |    John Wells (politician)    |\n",
      "| 34547 |   0.978214931987   | Nathan Murphy (Australian ... |\n",
      "| 50261 |   0.978256163041   |       Francis Longstaff       |\n",
      "+-------+--------------------+-------------------------------+\n",
      "[10 rows x 3 columns]\n",
      "\n",
      "Radius: 2\n",
      "+-------+--------------------+---------------------+\n",
      "|   id  |      distance      |         name        |\n",
      "+-------+--------------------+---------------------+\n",
      "| 35817 | -6.66133814775e-16 |     Barack Obama    |\n",
      "| 24478 |   0.703138676734   |      Joe Biden      |\n",
      "|  9267 |   0.898377208819   | Vikramaditya Khanna |\n",
      "| 55909 |   0.899340396322   |     Herman Cain     |\n",
      "|  6949 |   0.925713001103   |  Harrison J. Goldin |\n",
      "| 23524 |   0.926397988994   |    Paul Bennecke    |\n",
      "|  5823 |   0.928498260316   |    Adeleke Mamora   |\n",
      "| 37262 |   0.93445433211    |      Becky Cain     |\n",
      "| 10121 |   0.936896394645   |     Bill Bradley    |\n",
      "| 54782 |   0.937809202206   |  Thomas F. Hartnett |\n",
      "+-------+--------------------+---------------------+\n",
      "[10 rows x 3 columns]\n",
      "\n",
      "Radius: 3\n",
      "+-------+--------------------+-------------------------+\n",
      "|   id  |      distance      |           name          |\n",
      "+-------+--------------------+-------------------------+\n",
      "| 35817 | -6.66133814775e-16 |       Barack Obama      |\n",
      "| 24478 |   0.703138676734   |        Joe Biden        |\n",
      "| 56008 |   0.856848127628   |      Nathan Cullen      |\n",
      "| 37199 |   0.874668698194   | Barry Sullivan (lawyer) |\n",
      "| 40353 |   0.890034225981   |      Neil MacBride      |\n",
      "|  9267 |   0.898377208819   |   Vikramaditya Khanna   |\n",
      "| 55909 |   0.899340396322   |       Herman Cain       |\n",
      "|  9165 |   0.900921029925   |   Raymond F. Clevenger  |\n",
      "| 57958 |   0.903003263483   |    Michael J. Malbin    |\n",
      "| 49872 |   0.909532800353   |      Lowell Barron      |\n",
      "+-------+--------------------+-------------------------+\n",
      "[10 rows x 3 columns]\n",
      "\n",
      "Radius: 4\n",
      "+-------+--------------------+--------------------+\n",
      "|   id  |      distance      |        name        |\n",
      "+-------+--------------------+--------------------+\n",
      "| 35817 | -6.66133814775e-16 |    Barack Obama    |\n",
      "| 24478 |   0.703138676734   |     Joe Biden      |\n",
      "| 36452 |   0.833985493688   |    Bill Clinton    |\n",
      "| 24848 |   0.839406735668   |  John C. Eastman   |\n",
      "| 43155 |   0.840839007484   |    Goodwin Liu     |\n",
      "| 42965 |   0.849077676943   |  John O. Brennan   |\n",
      "| 56008 |   0.856848127628   |   Nathan Cullen    |\n",
      "| 38495 |   0.857573828556   |    Barney Frank    |\n",
      "| 18752 |   0.858899032522   |   Dan W. Reicher   |\n",
      "|  2092 |   0.874643264756   | Richard Blumenthal |\n",
      "+-------+--------------------+--------------------+\n",
      "[10 rows x 3 columns]\n",
      "\n",
      "Radius: 5\n",
      "+-------+--------------------+-------------------------+\n",
      "|   id  |      distance      |           name          |\n",
      "+-------+--------------------+-------------------------+\n",
      "| 35817 | -6.66133814775e-16 |       Barack Obama      |\n",
      "| 24478 |   0.703138676734   |        Joe Biden        |\n",
      "| 38714 |   0.770561227601   | Eric Stern (politician) |\n",
      "| 46811 |   0.800197384104   |      Jeff Sessions      |\n",
      "| 14754 |   0.826854025897   |       Mitt Romney       |\n",
      "| 36452 |   0.833985493688   |       Bill Clinton      |\n",
      "| 40943 |   0.834534928232   |      Jonathan Alter     |\n",
      "| 55044 |   0.837013236281   |       Wesley Clark      |\n",
      "| 24848 |   0.839406735668   |     John C. Eastman     |\n",
      "| 43155 |   0.840839007484   |       Goodwin Liu       |\n",
      "+-------+--------------------+-------------------------+\n",
      "[10 rows x 3 columns]\n",
      "\n",
      "Radius: 6\n",
      "+-------+--------------------+-------------------------+\n",
      "|   id  |      distance      |           name          |\n",
      "+-------+--------------------+-------------------------+\n",
      "| 35817 | -6.66133814775e-16 |       Barack Obama      |\n",
      "| 24478 |   0.703138676734   |        Joe Biden        |\n",
      "| 38714 |   0.770561227601   | Eric Stern (politician) |\n",
      "| 44681 |   0.790926415366   |  Jesse Lee (politician) |\n",
      "| 46811 |   0.800197384104   |      Jeff Sessions      |\n",
      "| 48693 |   0.809192212293   |       Artur Davis       |\n",
      "| 23737 |   0.810164633465   |    John D. McCormick    |\n",
      "|  4032 |   0.814554748671   |   Kenneth D. Thompson   |\n",
      "| 28447 |   0.823228984384   |      George W. Bush     |\n",
      "| 14754 |   0.826854025897   |       Mitt Romney       |\n",
      "+-------+--------------------+-------------------------+\n",
      "[10 rows x 3 columns]\n",
      "\n",
      "Radius: 7\n",
      "+-------+--------------------+-------------------------+\n",
      "|   id  |      distance      |           name          |\n",
      "+-------+--------------------+-------------------------+\n",
      "| 35817 | -6.66133814775e-16 |       Barack Obama      |\n",
      "| 24478 |   0.703138676734   |        Joe Biden        |\n",
      "| 38376 |   0.742981902328   |      Samantha Power     |\n",
      "| 57108 |   0.758358397887   |  Hillary Rodham Clinton |\n",
      "| 38714 |   0.770561227601   | Eric Stern (politician) |\n",
      "| 44681 |   0.790926415366   |  Jesse Lee (politician) |\n",
      "| 18827 |   0.798322602893   |       Henry Waxman      |\n",
      "| 46811 |   0.800197384104   |      Jeff Sessions      |\n",
      "| 48693 |   0.809192212293   |       Artur Davis       |\n",
      "| 23737 |   0.810164633465   |    John D. McCormick    |\n",
      "+-------+--------------------+-------------------------+\n",
      "[10 rows x 3 columns]\n",
      "\n",
      "Radius: 8\n",
      "+-------+--------------------+-------------------------+\n",
      "|   id  |      distance      |           name          |\n",
      "+-------+--------------------+-------------------------+\n",
      "| 35817 | -6.66133814775e-16 |       Barack Obama      |\n",
      "| 24478 |   0.703138676734   |        Joe Biden        |\n",
      "| 38376 |   0.742981902328   |      Samantha Power     |\n",
      "| 57108 |   0.758358397887   |  Hillary Rodham Clinton |\n",
      "| 38714 |   0.770561227601   | Eric Stern (politician) |\n",
      "| 44681 |   0.790926415366   |  Jesse Lee (politician) |\n",
      "| 18827 |   0.798322602893   |       Henry Waxman      |\n",
      "| 46811 |   0.800197384104   |      Jeff Sessions      |\n",
      "| 48693 |   0.809192212293   |       Artur Davis       |\n",
      "| 23737 |   0.810164633465   |    John D. McCormick    |\n",
      "+-------+--------------------+-------------------------+\n",
      "[10 rows x 3 columns]\n",
      "\n",
      "Radius: 9\n",
      "+-------+--------------------+-------------------------+\n",
      "|   id  |      distance      |           name          |\n",
      "+-------+--------------------+-------------------------+\n",
      "| 35817 | -6.66133814775e-16 |       Barack Obama      |\n",
      "| 24478 |   0.703138676734   |        Joe Biden        |\n",
      "| 38376 |   0.742981902328   |      Samantha Power     |\n",
      "| 57108 |   0.758358397887   |  Hillary Rodham Clinton |\n",
      "| 38714 |   0.770561227601   | Eric Stern (politician) |\n",
      "| 46140 |   0.784677504751   |       Robert Gibbs      |\n",
      "| 44681 |   0.790926415366   |  Jesse Lee (politician) |\n",
      "| 18827 |   0.798322602893   |       Henry Waxman      |\n",
      "| 46811 |   0.800197384104   |      Jeff Sessions      |\n",
      "| 39357 |   0.809050776238   |       John McCain       |\n",
      "+-------+--------------------+-------------------------+\n",
      "[10 rows x 3 columns]\n",
      "\n",
      "Radius: 10\n",
      "+-------+--------------------+-------------------------+\n",
      "|   id  |      distance      |           name          |\n",
      "+-------+--------------------+-------------------------+\n",
      "| 35817 | -6.66133814775e-16 |       Barack Obama      |\n",
      "| 24478 |   0.703138676734   |        Joe Biden        |\n",
      "| 38376 |   0.742981902328   |      Samantha Power     |\n",
      "| 57108 |   0.758358397887   |  Hillary Rodham Clinton |\n",
      "| 38714 |   0.770561227601   | Eric Stern (politician) |\n",
      "| 46140 |   0.784677504751   |       Robert Gibbs      |\n",
      "| 44681 |   0.790926415366   |  Jesse Lee (politician) |\n",
      "| 18827 |   0.798322602893   |       Henry Waxman      |\n",
      "|  2412 |   0.799466360042   |     Joe the Plumber     |\n",
      "| 46811 |   0.800197384104   |      Jeff Sessions      |\n",
      "+-------+--------------------+-------------------------+\n",
      "[10 rows x 3 columns]\n",
      "\n",
      "Radius: 11\n",
      "+-------+--------------------+-------------------------+\n",
      "|   id  |      distance      |           name          |\n",
      "+-------+--------------------+-------------------------+\n",
      "| 35817 | -6.66133814775e-16 |       Barack Obama      |\n",
      "| 24478 |   0.703138676734   |        Joe Biden        |\n",
      "| 38376 |   0.742981902328   |      Samantha Power     |\n",
      "| 57108 |   0.758358397887   |  Hillary Rodham Clinton |\n",
      "| 38714 |   0.770561227601   | Eric Stern (politician) |\n",
      "| 46140 |   0.784677504751   |       Robert Gibbs      |\n",
      "| 44681 |   0.790926415366   |  Jesse Lee (politician) |\n",
      "| 18827 |   0.798322602893   |       Henry Waxman      |\n",
      "|  2412 |   0.799466360042   |     Joe the Plumber     |\n",
      "| 46811 |   0.800197384104   |      Jeff Sessions      |\n",
      "+-------+--------------------+-------------------------+\n",
      "[10 rows x 3 columns]\n",
      "\n",
      "Radius: 12\n",
      "+-------+--------------------+-------------------------+\n",
      "|   id  |      distance      |           name          |\n",
      "+-------+--------------------+-------------------------+\n",
      "| 35817 | -6.66133814775e-16 |       Barack Obama      |\n",
      "| 24478 |   0.703138676734   |        Joe Biden        |\n",
      "| 38376 |   0.742981902328   |      Samantha Power     |\n",
      "| 57108 |   0.758358397887   |  Hillary Rodham Clinton |\n",
      "| 38714 |   0.770561227601   | Eric Stern (politician) |\n",
      "| 46140 |   0.784677504751   |       Robert Gibbs      |\n",
      "|  6796 |   0.788039072943   |       Eric Holder       |\n",
      "| 44681 |   0.790926415366   |  Jesse Lee (politician) |\n",
      "| 18827 |   0.798322602893   |       Henry Waxman      |\n",
      "|  2412 |   0.799466360042   |     Joe the Plumber     |\n",
      "+-------+--------------------+-------------------------+\n",
      "[10 rows x 3 columns]\n",
      "\n",
      "Radius: 13\n",
      "+-------+--------------------+-------------------------+\n",
      "|   id  |      distance      |           name          |\n",
      "+-------+--------------------+-------------------------+\n",
      "| 35817 | -6.66133814775e-16 |       Barack Obama      |\n",
      "| 24478 |   0.703138676734   |        Joe Biden        |\n",
      "| 38376 |   0.742981902328   |      Samantha Power     |\n",
      "| 57108 |   0.758358397887   |  Hillary Rodham Clinton |\n",
      "| 38714 |   0.770561227601   | Eric Stern (politician) |\n",
      "| 46140 |   0.784677504751   |       Robert Gibbs      |\n",
      "|  6796 |   0.788039072943   |       Eric Holder       |\n",
      "| 44681 |   0.790926415366   |  Jesse Lee (politician) |\n",
      "| 18827 |   0.798322602893   |       Henry Waxman      |\n",
      "|  2412 |   0.799466360042   |     Joe the Plumber     |\n",
      "+-------+--------------------+-------------------------+\n",
      "[10 rows x 3 columns]\n",
      "\n",
      "Radius: 14\n",
      "+-------+--------------------+-------------------------+\n",
      "|   id  |      distance      |           name          |\n",
      "+-------+--------------------+-------------------------+\n",
      "| 35817 | -6.66133814775e-16 |       Barack Obama      |\n",
      "| 24478 |   0.703138676734   |        Joe Biden        |\n",
      "| 38376 |   0.742981902328   |      Samantha Power     |\n",
      "| 57108 |   0.758358397887   |  Hillary Rodham Clinton |\n",
      "| 38714 |   0.770561227601   | Eric Stern (politician) |\n",
      "| 46140 |   0.784677504751   |       Robert Gibbs      |\n",
      "|  6796 |   0.788039072943   |       Eric Holder       |\n",
      "| 44681 |   0.790926415366   |  Jesse Lee (politician) |\n",
      "| 18827 |   0.798322602893   |       Henry Waxman      |\n",
      "|  2412 |   0.799466360042   |     Joe the Plumber     |\n",
      "+-------+--------------------+-------------------------+\n",
      "[10 rows x 3 columns]\n",
      "\n",
      "Radius: 15\n",
      "+-------+--------------------+-------------------------+\n",
      "|   id  |      distance      |           name          |\n",
      "+-------+--------------------+-------------------------+\n",
      "| 35817 | -6.66133814775e-16 |       Barack Obama      |\n",
      "| 24478 |   0.703138676734   |        Joe Biden        |\n",
      "| 38376 |   0.742981902328   |      Samantha Power     |\n",
      "| 57108 |   0.758358397887   |  Hillary Rodham Clinton |\n",
      "| 38714 |   0.770561227601   | Eric Stern (politician) |\n",
      "| 46140 |   0.784677504751   |       Robert Gibbs      |\n",
      "|  6796 |   0.788039072943   |       Eric Holder       |\n",
      "| 44681 |   0.790926415366   |  Jesse Lee (politician) |\n",
      "| 18827 |   0.798322602893   |       Henry Waxman      |\n",
      "|  2412 |   0.799466360042   |     Joe the Plumber     |\n",
      "+-------+--------------------+-------------------------+\n",
      "[10 rows x 3 columns]\n",
      "\n",
      "Radius: 16\n",
      "+-------+--------------------+-------------------------+\n",
      "|   id  |      distance      |           name          |\n",
      "+-------+--------------------+-------------------------+\n",
      "| 35817 | -6.66133814775e-16 |       Barack Obama      |\n",
      "| 24478 |   0.703138676734   |        Joe Biden        |\n",
      "| 38376 |   0.742981902328   |      Samantha Power     |\n",
      "| 57108 |   0.758358397887   |  Hillary Rodham Clinton |\n",
      "| 38714 |   0.770561227601   | Eric Stern (politician) |\n",
      "| 46140 |   0.784677504751   |       Robert Gibbs      |\n",
      "|  6796 |   0.788039072943   |       Eric Holder       |\n",
      "| 44681 |   0.790926415366   |  Jesse Lee (politician) |\n",
      "| 18827 |   0.798322602893   |       Henry Waxman      |\n",
      "|  2412 |   0.799466360042   |     Joe the Plumber     |\n",
      "+-------+--------------------+-------------------------+\n",
      "[10 rows x 3 columns]\n",
      "\n"
     ]
    }
   ],
   "source": [
    "num_candidates_history = []\n",
    "query_time_history = []\n",
    "max_distance_from_query_history = []\n",
    "min_distance_from_query_history = []\n",
    "average_distance_from_query_history = []\n",
    "\n",
    "for max_search_radius in xrange(17):\n",
    "    start=time.time()\n",
    "    result, num_candidates = query(corpus[35817,:], model, k=10,\n",
    "                                   max_search_radius=max_search_radius)\n",
    "    end=time.time()\n",
    "    query_time = end-start\n",
    "    \n",
    "    print 'Radius:', max_search_radius\n",
    "    print result.join(wiki[['id', 'name']], on='id').sort('distance')\n",
    "    \n",
    "    average_distance_from_query = result['distance'][1:].mean()\n",
    "    max_distance_from_query = result['distance'][1:].max()\n",
    "    min_distance_from_query = result['distance'][1:].min()\n",
    "    \n",
    "    num_candidates_history.append(num_candidates)\n",
    "    query_time_history.append(query_time)\n",
    "    average_distance_from_query_history.append(average_distance_from_query)\n",
    "    max_distance_from_query_history.append(max_distance_from_query)\n",
    "    min_distance_from_query_history.append(min_distance_from_query)"
   ]
  },
  {
   "cell_type": "markdown",
   "metadata": {},
   "source": [
    "##Plotting it gives us:-"
   ]
  },
  {
   "cell_type": "code",
   "execution_count": 28,
   "metadata": {
    "collapsed": false
   },
   "outputs": [
    {
     "data": {
      "image/png": "[encoded data removed]",
      "text/plain": [
       "<matplotlib.figure.Figure at 0x62857390>"
      ]
     },
     "metadata": {},
     "output_type": "display_data"
    },
    {
     "data": {
      "image/png": "[encoded data removed]",
      "text/plain": [
       "<matplotlib.figure.Figure at 0x62a21940>"
      ]
     },
     "metadata": {},
     "output_type": "display_data"
    },
    {
     "data": {
      "image/png": "[encoded data removed]",
      "text/plain": [
       "<matplotlib.figure.Figure at 0x628955f8>"
      ]
     },
     "metadata": {},
     "output_type": "display_data"
    }
   ],
   "source": [
    "plt.figure(figsize=(7,4.5))\n",
    "plt.plot(num_candidates_history, linewidth=4)\n",
    "plt.xlabel('Search radius')\n",
    "plt.ylabel('# of documents searched')\n",
    "plt.rcParams.update({'font.size':16})\n",
    "plt.tight_layout()\n",
    "\n",
    "plt.figure(figsize=(7,4.5))\n",
    "plt.plot(query_time_history, linewidth=4)\n",
    "plt.xlabel('Search radius')\n",
    "plt.ylabel('Query time (seconds)')\n",
    "plt.rcParams.update({'font.size':16})\n",
    "plt.tight_layout()\n",
    "\n",
    "plt.figure(figsize=(7,4.5))\n",
    "plt.plot(average_distance_from_query_history, linewidth=4, label='Average of 10 neighbors')\n",
    "plt.plot(max_distance_from_query_history, linewidth=4, label='Farthest of 10 neighbors')\n",
    "plt.plot(min_distance_from_query_history, linewidth=4, label='Closest of 10 neighbors')\n",
    "plt.xlabel('Search radius')\n",
    "plt.ylabel('Cosine distance of neighbors')\n",
    "plt.legend(loc='best', prop={'size':15})\n",
    "plt.rcParams.update({'font.size':16})\n",
    "plt.tight_layout()"
   ]
  }
 ],
 "metadata": {
  "kernelspec": {
   "display_name": "Python 2",
   "language": "python",
   "name": "python2"
  },
  "language_info": {
   "codemirror_mode": {
    "name": "ipython",
    "version": 2
   },
   "file_extension": ".py",
   "mimetype": "text/x-python",
   "name": "python",
   "nbconvert_exporter": "python",
   "pygments_lexer": "ipython2",
   "version": "2.7.11"
  }
 },
 "nbformat": 4,
 "nbformat_minor": 0
}
